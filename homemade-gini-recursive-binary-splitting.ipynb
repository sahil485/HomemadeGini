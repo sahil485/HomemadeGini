{
 "cells": [
  {
   "cell_type": "code",
   "execution_count": 1,
   "id": "1295ac97",
   "metadata": {
    "_cell_guid": "b1076dfc-b9ad-4769-8c92-a6c4dae69d19",
    "_uuid": "8f2839f25d086af736a60e9eeb907d3b93b6e0e5",
    "execution": {
     "iopub.execute_input": "2022-01-05T22:28:35.858160Z",
     "iopub.status.busy": "2022-01-05T22:28:35.856679Z",
     "iopub.status.idle": "2022-01-05T22:28:35.874758Z",
     "shell.execute_reply": "2022-01-05T22:28:35.875213Z",
     "shell.execute_reply.started": "2022-01-05T22:27:38.604966Z"
    },
    "papermill": {
     "duration": 0.037527,
     "end_time": "2022-01-05T22:28:35.875442",
     "exception": false,
     "start_time": "2022-01-05T22:28:35.837915",
     "status": "completed"
    },
    "tags": []
   },
   "outputs": [
    {
     "name": "stdout",
     "output_type": "stream",
     "text": [
      "/kaggle/input/ginipractice/Gini_and_Splitting_Test_Dataset\n"
     ]
    }
   ],
   "source": [
    "#This Python 3 environment comes with many helpful analytics libraries installed\n",
    "# It is defined by the kaggle/python Docker image: https://github.com/kaggle/docker-python\n",
    "# For example, here's several helpful packages to load\n",
    "\n",
    "import numpy as np # linear algebra\n",
    "import pandas as pd # data processing, CSV file I/O (e.g. pd.read_csv)\n",
    "\n",
    "# Input data files are available in the read-only \"../input/\" directory\n",
    "# For example, running this (by clicking run or pressing Shift+Enter) will list all files under the input directory\n",
    "\n",
    "import os\n",
    "for dirname, _, filenames in os.walk('/kaggle/input'):\n",
    "    for filename in filenames:\n",
    "        print(os.path.join(dirname, filename))\n",
    "\n",
    "# You can write up to 20GB to the current directory (/kaggle/working/) that gets preserved as output when you create a version using \"Save & Run All\" \n",
    "# You can also write temporary files to /kaggle/temp/, but they won't be saved outside of the current session"
   ]
  },
  {
   "cell_type": "code",
   "execution_count": 2,
   "id": "95dd7086",
   "metadata": {
    "execution": {
     "iopub.execute_input": "2022-01-05T22:28:35.911660Z",
     "iopub.status.busy": "2022-01-05T22:28:35.911094Z",
     "iopub.status.idle": "2022-01-05T22:28:35.942426Z",
     "shell.execute_reply": "2022-01-05T22:28:35.941949Z",
     "shell.execute_reply.started": "2022-01-05T22:27:38.620937Z"
    },
    "papermill": {
     "duration": 0.051596,
     "end_time": "2022-01-05T22:28:35.942541",
     "exception": false,
     "start_time": "2022-01-05T22:28:35.890945",
     "status": "completed"
    },
    "tags": []
   },
   "outputs": [],
   "source": [
    "import numpy as np\n",
    "import pandas as pd\n",
    "from numpy import random \n",
    "from numpy import array\n",
    "\n",
    "dataframe = pd.read_csv(\"../input/ginipractice/Gini_and_Splitting_Test_Dataset\")\n",
    "\n",
    "dataframe.columns = dataframe.iloc[0]\n",
    "dataframe = dataframe.drop(0)\n",
    "dataframe = dataframe.reset_index(drop=True)\n",
    "dataframe = dataframe.drop('Prediction', axis = 1)\n",
    "dataframe.at[1, \"X1\"] = 7\n",
    "dataframe.at[2, \"X1\"] = 8\n",
    "dataframe.at[7, \"X1\"] = 2\n",
    "dataframe.at[8, \"X1\"] = 3\n",
    "\n",
    "for i in range(10):\n",
    "    df = pd.DataFrame([[10*random.rand(), 10* random.rand(), random.randint(2)]],columns = dataframe.columns, index = [i+10])\n",
    "    dataframe = dataframe.append(df)\n",
    "\n",
    "dataset = dataframe.values.astype('float32')\n"
   ]
  },
  {
   "cell_type": "code",
   "execution_count": 3,
   "id": "7cce333c",
   "metadata": {
    "execution": {
     "iopub.execute_input": "2022-01-05T22:28:35.974530Z",
     "iopub.status.busy": "2022-01-05T22:28:35.973526Z",
     "iopub.status.idle": "2022-01-05T22:28:35.984884Z",
     "shell.execute_reply": "2022-01-05T22:28:35.985397Z",
     "shell.execute_reply.started": "2022-01-05T22:27:38.656174Z"
    },
    "papermill": {
     "duration": 0.029714,
     "end_time": "2022-01-05T22:28:35.985525",
     "exception": false,
     "start_time": "2022-01-05T22:28:35.955811",
     "status": "completed"
    },
    "tags": []
   },
   "outputs": [
    {
     "data": {
      "text/html": [
       "<div>\n",
       "<style scoped>\n",
       "    .dataframe tbody tr th:only-of-type {\n",
       "        vertical-align: middle;\n",
       "    }\n",
       "\n",
       "    .dataframe tbody tr th {\n",
       "        vertical-align: top;\n",
       "    }\n",
       "\n",
       "    .dataframe thead th {\n",
       "        text-align: right;\n",
       "    }\n",
       "</style>\n",
       "<table border=\"1\" class=\"dataframe\">\n",
       "  <thead>\n",
       "    <tr style=\"text-align: right;\">\n",
       "      <th></th>\n",
       "      <th>X1</th>\n",
       "      <th>X2</th>\n",
       "      <th>Y</th>\n",
       "    </tr>\n",
       "  </thead>\n",
       "  <tbody>\n",
       "    <tr>\n",
       "      <th>0</th>\n",
       "      <td>2.34387538</td>\n",
       "      <td>2.05175782</td>\n",
       "      <td>0</td>\n",
       "    </tr>\n",
       "    <tr>\n",
       "      <th>1</th>\n",
       "      <td>7</td>\n",
       "      <td>3.03293253</td>\n",
       "      <td>0</td>\n",
       "    </tr>\n",
       "    <tr>\n",
       "      <th>2</th>\n",
       "      <td>8</td>\n",
       "      <td>2.78632776</td>\n",
       "      <td>0</td>\n",
       "    </tr>\n",
       "    <tr>\n",
       "      <th>3</th>\n",
       "      <td>3.65634293</td>\n",
       "      <td>2.58146077</td>\n",
       "      <td>0</td>\n",
       "    </tr>\n",
       "    <tr>\n",
       "      <th>4</th>\n",
       "      <td>2.85319439</td>\n",
       "      <td>1.05233106</td>\n",
       "      <td>0</td>\n",
       "    </tr>\n",
       "    <tr>\n",
       "      <th>5</th>\n",
       "      <td>8.90764784</td>\n",
       "      <td>3.73054086</td>\n",
       "      <td>1</td>\n",
       "    </tr>\n",
       "    <tr>\n",
       "      <th>6</th>\n",
       "      <td>9.75246451</td>\n",
       "      <td>3.74075462</td>\n",
       "      <td>1</td>\n",
       "    </tr>\n",
       "    <tr>\n",
       "      <th>7</th>\n",
       "      <td>2</td>\n",
       "      <td>3.01340825</td>\n",
       "      <td>1</td>\n",
       "    </tr>\n",
       "    <tr>\n",
       "      <th>8</th>\n",
       "      <td>3</td>\n",
       "      <td>2.43633348</td>\n",
       "      <td>1</td>\n",
       "    </tr>\n",
       "    <tr>\n",
       "      <th>9</th>\n",
       "      <td>7.14252517</td>\n",
       "      <td>3.6501208</td>\n",
       "      <td>1</td>\n",
       "    </tr>\n",
       "    <tr>\n",
       "      <th>10</th>\n",
       "      <td>8.715614</td>\n",
       "      <td>9.322781</td>\n",
       "      <td>1</td>\n",
       "    </tr>\n",
       "    <tr>\n",
       "      <th>11</th>\n",
       "      <td>1.039782</td>\n",
       "      <td>5.332135</td>\n",
       "      <td>1</td>\n",
       "    </tr>\n",
       "    <tr>\n",
       "      <th>12</th>\n",
       "      <td>2.199744</td>\n",
       "      <td>4.833983</td>\n",
       "      <td>0</td>\n",
       "    </tr>\n",
       "    <tr>\n",
       "      <th>13</th>\n",
       "      <td>7.116434</td>\n",
       "      <td>0.28132</td>\n",
       "      <td>0</td>\n",
       "    </tr>\n",
       "    <tr>\n",
       "      <th>14</th>\n",
       "      <td>1.09728</td>\n",
       "      <td>5.921016</td>\n",
       "      <td>0</td>\n",
       "    </tr>\n",
       "    <tr>\n",
       "      <th>15</th>\n",
       "      <td>3.746377</td>\n",
       "      <td>2.48848</td>\n",
       "      <td>1</td>\n",
       "    </tr>\n",
       "    <tr>\n",
       "      <th>16</th>\n",
       "      <td>2.108115</td>\n",
       "      <td>3.07392</td>\n",
       "      <td>0</td>\n",
       "    </tr>\n",
       "    <tr>\n",
       "      <th>17</th>\n",
       "      <td>5.774675</td>\n",
       "      <td>6.999682</td>\n",
       "      <td>1</td>\n",
       "    </tr>\n",
       "    <tr>\n",
       "      <th>18</th>\n",
       "      <td>7.496687</td>\n",
       "      <td>1.565272</td>\n",
       "      <td>0</td>\n",
       "    </tr>\n",
       "    <tr>\n",
       "      <th>19</th>\n",
       "      <td>3.193025</td>\n",
       "      <td>7.80576</td>\n",
       "      <td>0</td>\n",
       "    </tr>\n",
       "  </tbody>\n",
       "</table>\n",
       "</div>"
      ],
      "text/plain": [
       "0           X1          X2  Y\n",
       "0   2.34387538  2.05175782  0\n",
       "1            7  3.03293253  0\n",
       "2            8  2.78632776  0\n",
       "3   3.65634293  2.58146077  0\n",
       "4   2.85319439  1.05233106  0\n",
       "5   8.90764784  3.73054086  1\n",
       "6   9.75246451  3.74075462  1\n",
       "7            2  3.01340825  1\n",
       "8            3  2.43633348  1\n",
       "9   7.14252517   3.6501208  1\n",
       "10    8.715614    9.322781  1\n",
       "11    1.039782    5.332135  1\n",
       "12    2.199744    4.833983  0\n",
       "13    7.116434     0.28132  0\n",
       "14     1.09728    5.921016  0\n",
       "15    3.746377     2.48848  1\n",
       "16    2.108115     3.07392  0\n",
       "17    5.774675    6.999682  1\n",
       "18    7.496687    1.565272  0\n",
       "19    3.193025     7.80576  0"
      ]
     },
     "execution_count": 3,
     "metadata": {},
     "output_type": "execute_result"
    }
   ],
   "source": [
    "dataframe"
   ]
  },
  {
   "cell_type": "code",
   "execution_count": 4,
   "id": "505da0ed",
   "metadata": {
    "execution": {
     "iopub.execute_input": "2022-01-05T22:28:36.022180Z",
     "iopub.status.busy": "2022-01-05T22:28:36.021420Z",
     "iopub.status.idle": "2022-01-05T22:28:36.024667Z",
     "shell.execute_reply": "2022-01-05T22:28:36.025198Z",
     "shell.execute_reply.started": "2022-01-05T22:27:38.674257Z"
    },
    "papermill": {
     "duration": 0.024555,
     "end_time": "2022-01-05T22:28:36.025363",
     "exception": false,
     "start_time": "2022-01-05T22:28:36.000808",
     "status": "completed"
    },
    "tags": []
   },
   "outputs": [
    {
     "data": {
      "text/plain": [
       "array([[2.3438754 , 2.0517578 , 0.        ],\n",
       "       [7.        , 3.0329325 , 0.        ],\n",
       "       [8.        , 2.7863278 , 0.        ],\n",
       "       [3.656343  , 2.5814607 , 0.        ],\n",
       "       [2.8531945 , 1.0523311 , 0.        ],\n",
       "       [8.907648  , 3.7305408 , 1.        ],\n",
       "       [9.752464  , 3.7407546 , 1.        ],\n",
       "       [2.        , 3.0134082 , 1.        ],\n",
       "       [3.        , 2.4363334 , 1.        ],\n",
       "       [7.142525  , 3.6501207 , 1.        ],\n",
       "       [8.715614  , 9.322781  , 1.        ],\n",
       "       [1.0397823 , 5.332135  , 1.        ],\n",
       "       [2.199744  , 4.833983  , 0.        ],\n",
       "       [7.1164336 , 0.28132018, 0.        ],\n",
       "       [1.0972799 , 5.9210157 , 0.        ],\n",
       "       [3.7463765 , 2.4884799 , 1.        ],\n",
       "       [2.1081154 , 3.07392   , 0.        ],\n",
       "       [5.7746754 , 6.999682  , 1.        ],\n",
       "       [7.496687  , 1.5652717 , 0.        ],\n",
       "       [3.193025  , 7.80576   , 0.        ]], dtype=float32)"
      ]
     },
     "execution_count": 4,
     "metadata": {},
     "output_type": "execute_result"
    }
   ],
   "source": [
    "arr = array(dataset)\n",
    "arr"
   ]
  },
  {
   "cell_type": "code",
   "execution_count": 5,
   "id": "4d185e8c",
   "metadata": {
    "execution": {
     "iopub.execute_input": "2022-01-05T22:28:36.057160Z",
     "iopub.status.busy": "2022-01-05T22:28:36.056354Z",
     "iopub.status.idle": "2022-01-05T22:28:36.069594Z",
     "shell.execute_reply": "2022-01-05T22:28:36.069996Z",
     "shell.execute_reply.started": "2022-01-05T22:27:38.688717Z"
    },
    "papermill": {
     "duration": 0.030312,
     "end_time": "2022-01-05T22:28:36.070113",
     "exception": false,
     "start_time": "2022-01-05T22:28:36.039801",
     "status": "completed"
    },
    "tags": []
   },
   "outputs": [],
   "source": [
    "from numpy import array\n",
    "import numpy as np\n",
    "\n",
    "def calc_best_gini(arr):\n",
    "    min_scorer =  arr[0, 0]\n",
    "    min_score = 1\n",
    "    column = -1\n",
    "    for row in arr:\n",
    "        for col in range(1,3):\n",
    "            tmp = row[col-1]\n",
    "            group1, group2 = organize(tmp,col-1, arr)\n",
    "            g10, g11, g20, g21 = 0, 0,0,0\n",
    "            ng1, ng2 = len(group1), len(group2)\n",
    "            for el in group1:\n",
    "                if el[-1] == 0:\n",
    "                    g10 += 1\n",
    "                else:\n",
    "                    g11 += 1\n",
    "            for el in group2:\n",
    "                if el[-1] == 0:\n",
    "                    g20 += 1\n",
    "                else:\n",
    "                    g21 += 1\n",
    "                \n",
    "            if len(group1) == 0:\n",
    "                g10, g11 = 0, 0\n",
    "            else:\n",
    "                g10, g11 = g10/len(group1), g11/len(group1)\n",
    "            \n",
    "            if len(group2) == 0:\n",
    "                g20, g21 = 0, 0\n",
    "            else:\n",
    "                g20, g21 = g20/len(group2), g21/len(group2)\n",
    "                    \n",
    "            score = get_gini(10, ng1, ng2, g10, g11, g20, g21)\n",
    "#             print(\"Column: X{}, Value: {}, Score: {}\".format(col, tmp, score))\n",
    "            if(min_score > score):\n",
    "                min_score = score\n",
    "                min_scorer = tmp\n",
    "                column = col\n",
    "    return min_scorer, column\n",
    "\n",
    "def organize(tmp, col, arr):\n",
    "    group1 = np.empty((0,3))\n",
    "    group2 = np.empty((0,3))\n",
    "    for row in arr:\n",
    "        if(row[col] < tmp):\n",
    "            group1 = np.append(group1, row.reshape((1, len(row))), 0)\n",
    "        else:\n",
    "            group2 = np.append(group2, row.reshape((1, len(row))), 0)\n",
    "    return group1, group2\n",
    "\n",
    "            \n",
    "def get_gini(n, ng1, ng2, g10, g11, g20, g21):\n",
    "    return ((1-(g10**2 + g11**2))*(ng1/n)) +((1-(g20**2 + g21**2))*(ng2/n)) "
   ]
  },
  {
   "cell_type": "code",
   "execution_count": 6,
   "id": "317c538c",
   "metadata": {
    "execution": {
     "iopub.execute_input": "2022-01-05T22:28:36.103915Z",
     "iopub.status.busy": "2022-01-05T22:28:36.103143Z",
     "iopub.status.idle": "2022-01-05T22:28:36.112485Z",
     "shell.execute_reply": "2022-01-05T22:28:36.112062Z",
     "shell.execute_reply.started": "2022-01-05T22:27:38.712810Z"
    },
    "papermill": {
     "duration": 0.028422,
     "end_time": "2022-01-05T22:28:36.112593",
     "exception": false,
     "start_time": "2022-01-05T22:28:36.084171",
     "status": "completed"
    },
    "tags": []
   },
   "outputs": [
    {
     "data": {
      "text/plain": [
       "8.715614"
      ]
     },
     "execution_count": 6,
     "metadata": {},
     "output_type": "execute_result"
    }
   ],
   "source": [
    "min_scorer, column = calc_best_gini(arr)\n",
    "group1, group2 = organize(min_scorer, column-1, arr)\n",
    "\n",
    "min_scorer"
   ]
  },
  {
   "cell_type": "code",
   "execution_count": 7,
   "id": "57cc1f30",
   "metadata": {
    "execution": {
     "iopub.execute_input": "2022-01-05T22:28:36.148211Z",
     "iopub.status.busy": "2022-01-05T22:28:36.147660Z",
     "iopub.status.idle": "2022-01-05T22:28:36.150198Z",
     "shell.execute_reply": "2022-01-05T22:28:36.149814Z",
     "shell.execute_reply.started": "2022-01-05T22:27:38.736140Z"
    },
    "papermill": {
     "duration": 0.023564,
     "end_time": "2022-01-05T22:28:36.150325",
     "exception": false,
     "start_time": "2022-01-05T22:28:36.126761",
     "status": "completed"
    },
    "tags": []
   },
   "outputs": [],
   "source": [
    "def recursive_split(arr):\n",
    "    val = arr[0, 2]\n",
    "    same = True\n",
    "    for row in arr:\n",
    "        if row[2] != val:\n",
    "            same = False\n",
    "            break\n",
    "    if len(arr) <= 3 or same:\n",
    "        ones, zeroes = 0,0\n",
    "        for i in arr:\n",
    "            if i[-1] == 1:\n",
    "                ones+= 1\n",
    "            else:\n",
    "                zeroes+=1\n",
    "        return 1 if max(zeroes, ones) == ones else 0 #returns the prediction from this branch of the tree based on the max-occurring value of binary class-counts\n",
    "    \n",
    "    comb_arr = []\n",
    "    min_scorer, column = calc_best_gini(arr)\n",
    "    group1, group2 = organize(min_scorer, column-1, arr)\n",
    "\n",
    "#     comb_arr.append(\"Threshold:{} Category:{}\".format(min_scorer, column))\n",
    "\n",
    "    comb_arr.append((min_scorer, column))\n",
    "    comb_arr.append(recursive_split(group1))\n",
    "    comb_arr.append(recursive_split(group2))\n",
    "    \n",
    "    return comb_arr\n",
    "\n",
    "def caller(arr):\n",
    "    return recursive_split(arr)"
   ]
  },
  {
   "cell_type": "code",
   "execution_count": 8,
   "id": "72ce6fa6",
   "metadata": {
    "execution": {
     "iopub.execute_input": "2022-01-05T22:28:36.182517Z",
     "iopub.status.busy": "2022-01-05T22:28:36.181738Z",
     "iopub.status.idle": "2022-01-05T22:28:36.200729Z",
     "shell.execute_reply": "2022-01-05T22:28:36.200261Z",
     "shell.execute_reply.started": "2022-01-05T22:27:38.748607Z"
    },
    "papermill": {
     "duration": 0.03622,
     "end_time": "2022-01-05T22:28:36.200835",
     "exception": false,
     "start_time": "2022-01-05T22:28:36.164615",
     "status": "completed"
    },
    "tags": []
   },
   "outputs": [],
   "source": [
    "x = caller(arr)"
   ]
  },
  {
   "cell_type": "code",
   "execution_count": 9,
   "id": "3271770c",
   "metadata": {
    "execution": {
     "iopub.execute_input": "2022-01-05T22:28:36.234178Z",
     "iopub.status.busy": "2022-01-05T22:28:36.233586Z",
     "iopub.status.idle": "2022-01-05T22:28:36.236112Z",
     "shell.execute_reply": "2022-01-05T22:28:36.236541Z",
     "shell.execute_reply.started": "2022-01-05T22:27:38.782648Z"
    },
    "papermill": {
     "duration": 0.021641,
     "end_time": "2022-01-05T22:28:36.236671",
     "exception": false,
     "start_time": "2022-01-05T22:28:36.215030",
     "status": "completed"
    },
    "tags": []
   },
   "outputs": [
    {
     "data": {
      "text/plain": [
       "[(8.715614, 1),\n",
       " [(2.436333417892456, 2),\n",
       "  0,\n",
       "  [(2.58146071434021, 2),\n",
       "   1,\n",
       "   [(1.0972799062728882, 1),\n",
       "    1,\n",
       "    [(5.774675369262695, 1),\n",
       "     [(2.1081154346466064, 1), 1, 0],\n",
       "     [(3.650120735168457, 2), 0, 1]]]]],\n",
       " 1]"
      ]
     },
     "execution_count": 9,
     "metadata": {},
     "output_type": "execute_result"
    }
   ],
   "source": [
    "x"
   ]
  },
  {
   "cell_type": "code",
   "execution_count": 10,
   "id": "eacdb73a",
   "metadata": {
    "execution": {
     "iopub.execute_input": "2022-01-05T22:28:36.269833Z",
     "iopub.status.busy": "2022-01-05T22:28:36.269030Z",
     "iopub.status.idle": "2022-01-05T22:28:36.275186Z",
     "shell.execute_reply": "2022-01-05T22:28:36.274776Z",
     "shell.execute_reply.started": "2022-01-05T22:27:38.793270Z"
    },
    "papermill": {
     "duration": 0.024221,
     "end_time": "2022-01-05T22:28:36.275320",
     "exception": false,
     "start_time": "2022-01-05T22:28:36.251099",
     "status": "completed"
    },
    "tags": []
   },
   "outputs": [
    {
     "name": "stdout",
     "output_type": "stream",
     "text": [
      "[         (8.715614, 1),\n",
      "          [         (2.436333417892456, 2),\n",
      "                    0,\n",
      "                    [         (2.58146071434021, 2),\n",
      "                              1,\n",
      "                              [         (1.0972799062728882, 1),\n",
      "                                        1,\n",
      "                                        [         (5.774675369262695, 1),\n",
      "                                                  [(2.1081154346466064, 1), 1, 0],\n",
      "                                                  [(3.650120735168457, 2), 0, 1]]]]],\n",
      "          1]\n"
     ]
    }
   ],
   "source": [
    "import pprint\n",
    "\n",
    "pp = pprint.PrettyPrinter(indent = 10, width= 100)\n",
    "pp.pprint(x)"
   ]
  },
  {
   "cell_type": "code",
   "execution_count": 11,
   "id": "4fc79738",
   "metadata": {
    "execution": {
     "iopub.execute_input": "2022-01-05T22:28:36.309966Z",
     "iopub.status.busy": "2022-01-05T22:28:36.309183Z",
     "iopub.status.idle": "2022-01-05T22:28:36.314384Z",
     "shell.execute_reply": "2022-01-05T22:28:36.313959Z",
     "shell.execute_reply.started": "2022-01-05T22:27:38.807622Z"
    },
    "papermill": {
     "duration": 0.022455,
     "end_time": "2022-01-05T22:28:36.314493",
     "exception": false,
     "start_time": "2022-01-05T22:28:36.292038",
     "status": "completed"
    },
    "tags": []
   },
   "outputs": [
    {
     "data": {
      "text/plain": [
       "True"
      ]
     },
     "execution_count": 11,
     "metadata": {},
     "output_type": "execute_result"
    }
   ],
   "source": [
    "type(x) == list"
   ]
  },
  {
   "cell_type": "code",
   "execution_count": 12,
   "id": "f681fd18",
   "metadata": {
    "execution": {
     "iopub.execute_input": "2022-01-05T22:28:36.347379Z",
     "iopub.status.busy": "2022-01-05T22:28:36.346619Z",
     "iopub.status.idle": "2022-01-05T22:28:36.351800Z",
     "shell.execute_reply": "2022-01-05T22:28:36.351261Z",
     "shell.execute_reply.started": "2022-01-05T22:27:38.818066Z"
    },
    "papermill": {
     "duration": 0.022399,
     "end_time": "2022-01-05T22:28:36.351909",
     "exception": false,
     "start_time": "2022-01-05T22:28:36.329510",
     "status": "completed"
    },
    "tags": []
   },
   "outputs": [],
   "source": [
    "def dfs(arr):\n",
    "    \n",
    "    dfs_arr = []\n",
    "    \n",
    "    for el in arr:\n",
    "        if(type(el) == list):\n",
    "            for el1 in dfs(el):\n",
    "                dfs_arr.append(el1)\n",
    "        else:\n",
    "            dfs_arr.append(el)\n",
    "    \n",
    "    return dfs_arr"
   ]
  },
  {
   "cell_type": "code",
   "execution_count": 13,
   "id": "2ffa4ab4",
   "metadata": {
    "execution": {
     "iopub.execute_input": "2022-01-05T22:28:36.385388Z",
     "iopub.status.busy": "2022-01-05T22:28:36.384610Z",
     "iopub.status.idle": "2022-01-05T22:28:36.386540Z",
     "shell.execute_reply": "2022-01-05T22:28:36.386935Z",
     "shell.execute_reply.started": "2022-01-05T22:27:38.827357Z"
    },
    "papermill": {
     "duration": 0.020332,
     "end_time": "2022-01-05T22:28:36.387090",
     "exception": false,
     "start_time": "2022-01-05T22:28:36.366758",
     "status": "completed"
    },
    "tags": []
   },
   "outputs": [],
   "source": [
    "y = dfs(x)"
   ]
  },
  {
   "cell_type": "code",
   "execution_count": 14,
   "id": "efeaf028",
   "metadata": {
    "execution": {
     "iopub.execute_input": "2022-01-05T22:28:36.424384Z",
     "iopub.status.busy": "2022-01-05T22:28:36.423710Z",
     "iopub.status.idle": "2022-01-05T22:28:36.425838Z",
     "shell.execute_reply": "2022-01-05T22:28:36.426213Z",
     "shell.execute_reply.started": "2022-01-05T22:27:38.835876Z"
    },
    "papermill": {
     "duration": 0.0242,
     "end_time": "2022-01-05T22:28:36.426345",
     "exception": false,
     "start_time": "2022-01-05T22:28:36.402145",
     "status": "completed"
    },
    "tags": []
   },
   "outputs": [],
   "source": [
    "class Node():\n",
    "    def __init__(self, val, ind, prev = None, left = None, right = None):\n",
    "        self.ind = ind\n",
    "        self.val = val\n",
    "        self.prev = prev\n",
    "        self.left = left\n",
    "        self.right = right\n",
    "\n",
    "def construct(arr):\n",
    "    if(type(arr[0]) != tuple):\n",
    "        if len(arr) > 0:\n",
    "            return arr[1:], Node(arr[0], -1)\n",
    "        else:\n",
    "            return [], Node(arr[0], -1)\n",
    "    \n",
    "    root = Node(arr[0][0], arr[0][1])\n",
    "    rem, root.left = construct(arr[1:])\n",
    "    rem, root.right = construct(rem)\n",
    "    root.left.prev , root.right.prev = root, root\n",
    "    \n",
    "    return rem, root"
   ]
  },
  {
   "cell_type": "code",
   "execution_count": 15,
   "id": "750bbc00",
   "metadata": {
    "execution": {
     "iopub.execute_input": "2022-01-05T22:28:36.461152Z",
     "iopub.status.busy": "2022-01-05T22:28:36.460393Z",
     "iopub.status.idle": "2022-01-05T22:28:36.462451Z",
     "shell.execute_reply": "2022-01-05T22:28:36.462866Z",
     "shell.execute_reply.started": "2022-01-05T22:27:38.850436Z"
    },
    "papermill": {
     "duration": 0.02181,
     "end_time": "2022-01-05T22:28:36.462979",
     "exception": false,
     "start_time": "2022-01-05T22:28:36.441169",
     "status": "completed"
    },
    "tags": []
   },
   "outputs": [],
   "source": [
    "def classify(tree, entry): #entry is a sample of data in the form [X1, X2] for which a prediction is outputted\n",
    "    node = tree\n",
    "    while node.left and node.right:\n",
    "        cond = node.val\n",
    "        ind = node.ind\n",
    "        if(entry[ind-1] >= node.val):\n",
    "            node = node.right\n",
    "        else:\n",
    "            node = node.left\n",
    "    \n",
    "    return node.val"
   ]
  },
  {
   "cell_type": "code",
   "execution_count": 16,
   "id": "2f580c0a",
   "metadata": {
    "execution": {
     "iopub.execute_input": "2022-01-05T22:28:36.497829Z",
     "iopub.status.busy": "2022-01-05T22:28:36.497146Z",
     "iopub.status.idle": "2022-01-05T22:28:36.499723Z",
     "shell.execute_reply": "2022-01-05T22:28:36.500123Z",
     "shell.execute_reply.started": "2022-01-05T22:27:38.862395Z"
    },
    "papermill": {
     "duration": 0.022307,
     "end_time": "2022-01-05T22:28:36.500237",
     "exception": false,
     "start_time": "2022-01-05T22:28:36.477930",
     "status": "completed"
    },
    "tags": []
   },
   "outputs": [
    {
     "data": {
      "text/plain": [
       "[(8.715614, 1),\n",
       " (2.436333417892456, 2),\n",
       " 0,\n",
       " (2.58146071434021, 2),\n",
       " 1,\n",
       " (1.0972799062728882, 1),\n",
       " 1,\n",
       " (5.774675369262695, 1),\n",
       " (2.1081154346466064, 1),\n",
       " 1,\n",
       " 0,\n",
       " (3.650120735168457, 2),\n",
       " 0,\n",
       " 1,\n",
       " 1]"
      ]
     },
     "execution_count": 16,
     "metadata": {},
     "output_type": "execute_result"
    }
   ],
   "source": [
    "y"
   ]
  },
  {
   "cell_type": "code",
   "execution_count": 17,
   "id": "52aeb622",
   "metadata": {
    "execution": {
     "iopub.execute_input": "2022-01-05T22:28:36.534679Z",
     "iopub.status.busy": "2022-01-05T22:28:36.533969Z",
     "iopub.status.idle": "2022-01-05T22:28:36.535830Z",
     "shell.execute_reply": "2022-01-05T22:28:36.536221Z",
     "shell.execute_reply.started": "2022-01-05T22:27:38.877945Z"
    },
    "papermill": {
     "duration": 0.020777,
     "end_time": "2022-01-05T22:28:36.536362",
     "exception": false,
     "start_time": "2022-01-05T22:28:36.515585",
     "status": "completed"
    },
    "tags": []
   },
   "outputs": [],
   "source": [
    "rem, tree = construct(y)"
   ]
  },
  {
   "cell_type": "code",
   "execution_count": 18,
   "id": "d4316661",
   "metadata": {
    "execution": {
     "iopub.execute_input": "2022-01-05T22:28:36.573829Z",
     "iopub.status.busy": "2022-01-05T22:28:36.572724Z",
     "iopub.status.idle": "2022-01-05T22:28:36.587889Z",
     "shell.execute_reply": "2022-01-05T22:28:36.587168Z",
     "shell.execute_reply.started": "2022-01-05T22:27:38.886271Z"
    },
    "papermill": {
     "duration": 0.03652,
     "end_time": "2022-01-05T22:28:36.588071",
     "exception": false,
     "start_time": "2022-01-05T22:28:36.551551",
     "status": "completed"
    },
    "tags": []
   },
   "outputs": [
    {
     "name": "stdout",
     "output_type": "stream",
     "text": [
      "Entry: [2.3438754 2.0517578 0.       ] Prediction: 0\n",
      "\n",
      "Entry: [7.        3.0329325 0.       ] Prediction: 0\n",
      "\n",
      "Entry: [8.        2.7863278 0.       ] Prediction: 0\n",
      "\n",
      "Entry: [3.656343  2.5814607 0.       ] Prediction: 0\n",
      "\n",
      "Entry: [2.8531945 1.0523311 0.       ] Prediction: 0\n",
      "\n",
      "Entry: [8.907648  3.7305408 1.       ] Prediction: 1\n",
      "\n",
      "Entry: [9.752464  3.7407546 1.       ] Prediction: 1\n",
      "\n",
      "Entry: [2.        3.0134082 1.       ] Prediction: 1\n",
      "\n",
      "Entry: [3.        2.4363334 1.       ] Prediction: 1\n",
      "\n",
      "Entry: [7.142525  3.6501207 1.       ] Prediction: 1\n",
      "\n",
      "Entry: [8.715614 9.322781 1.      ] Prediction: 1\n",
      "\n",
      "Entry: [1.0397823 5.332135  1.       ] Prediction: 1\n",
      "\n",
      "Entry: [2.199744 4.833983 0.      ] Prediction: 0\n",
      "\n",
      "Entry: [7.1164336  0.28132018 0.        ] Prediction: 0\n",
      "\n",
      "Entry: [1.0972799 5.9210157 0.       ] Prediction: 1\n",
      "INCORRECT\n",
      "\n",
      "Entry: [3.7463765 2.4884799 1.       ] Prediction: 1\n",
      "\n",
      "Entry: [2.1081154 3.07392   0.       ] Prediction: 0\n",
      "\n",
      "Entry: [5.7746754 6.999682  1.       ] Prediction: 1\n",
      "\n",
      "Entry: [7.496687  1.5652717 0.       ] Prediction: 0\n",
      "\n",
      "Entry: [3.193025 7.80576  0.      ] Prediction: 0\n",
      "\n",
      "Accuracy: 95.0%\n"
     ]
    }
   ],
   "source": [
    "correct = 0\n",
    "\n",
    "for entry in dataset:\n",
    "    print(\"Entry: {}\".format(entry),\"Prediction: {}\".format(classify(tree, entry[: -1])))\n",
    "    if classify(tree, entry[: -1]) == entry[-1]: correct +=1\n",
    "    else: \n",
    "        print(\"INCORRECT\")\n",
    "    print()\n",
    "\n",
    "print(\"Accuracy: {}%\".format(correct/len(dataset)*100))"
   ]
  }
 ],
 "metadata": {
  "kernelspec": {
   "display_name": "Python 3",
   "language": "python",
   "name": "python3"
  },
  "language_info": {
   "codemirror_mode": {
    "name": "ipython",
    "version": 3
   },
   "file_extension": ".py",
   "mimetype": "text/x-python",
   "name": "python",
   "nbconvert_exporter": "python",
   "pygments_lexer": "ipython3",
   "version": "3.7.12"
  },
  "papermill": {
   "default_parameters": {},
   "duration": 9.346529,
   "end_time": "2022-01-05T22:28:37.011713",
   "environment_variables": {},
   "exception": null,
   "input_path": "__notebook__.ipynb",
   "output_path": "__notebook__.ipynb",
   "parameters": {},
   "start_time": "2022-01-05T22:28:27.665184",
   "version": "2.3.3"
  }
 },
 "nbformat": 4,
 "nbformat_minor": 5
}
